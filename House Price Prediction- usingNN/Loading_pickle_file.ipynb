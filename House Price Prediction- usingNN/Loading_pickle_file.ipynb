{
 "cells": [
  {
   "cell_type": "code",
   "execution_count": 4,
   "metadata": {},
   "outputs": [],
   "source": [
    "import pickle \n",
    "import joblib\n",
    "import pandas as pd\n",
    "from sklearn.preprocessing import StandardScaler"
   ]
  },
  {
   "cell_type": "markdown",
   "metadata": {},
   "source": [
    "# Loading Pickle File\n",
    "\n",
    "1. Load Pickle Model\n",
    "\n",
    "2. Load Testing Csv file to check\n",
    "\n",
    "3. Perform Scaling (In our case, StandardScaler) on Testing Data\n",
    "\n",
    "### NOTE- fit_transform() always perform on Training Data(Bcoz it calculate the Mean and Variance on data.)\n",
    "###              transform() always perform on Testing Data(It uses the Mean and Variance of Training Data)"
   ]
  },
  {
   "cell_type": "code",
   "execution_count": 5,
   "metadata": {},
   "outputs": [
    {
     "data": {
      "text/plain": [
       "array([[-1.731808  , -1.42129606, -1.43869969, ..., -0.12293204,\n",
       "        -1.79493006,  1.44494941],\n",
       "       [-1.73132236,  0.64643896,  0.18087055, ..., -0.16201421,\n",
       "        -0.82594224,  1.44494941],\n",
       "       [-1.73083671,  0.64643896,  0.5047846 , ..., -0.32347339,\n",
       "        -1.47193412,  1.44494941],\n",
       "       ...,\n",
       "       [ 1.73083671,  1.68030647,  0.18087055, ..., -0.17766972,\n",
       "         1.43502935, -0.69206575],\n",
       "       [ 1.73132236,  0.64643896,  0.5047846 , ..., -0.19192943,\n",
       "        -1.14893818,  1.44494941],\n",
       "       [ 1.731808  , -0.38742855,  0.5047846 , ...,  0.00683889,\n",
       "        -0.82594224,  1.44494941]])"
      ]
     },
     "execution_count": 5,
     "metadata": {},
     "output_type": "execute_result"
    }
   ],
   "source": [
    "scaler = StandardScaler()\n",
    "model = joblib.load('multiRegressor_pickle_model.pkl')\n",
    "x= pd.read_csv('X_test.csv')\n",
    "X_test = scaler.fit_transform(x)\n",
    "X_test"
   ]
  },
  {
   "cell_type": "code",
   "execution_count": null,
   "metadata": {},
   "outputs": [],
   "source": []
  }
 ],
 "metadata": {
  "kernelspec": {
   "display_name": "Python 3",
   "language": "python",
   "name": "python3"
  },
  "language_info": {
   "codemirror_mode": {
    "name": "ipython",
    "version": 3
   },
   "file_extension": ".py",
   "mimetype": "text/x-python",
   "name": "python",
   "nbconvert_exporter": "python",
   "pygments_lexer": "ipython3",
   "version": "3.6.6"
  }
 },
 "nbformat": 4,
 "nbformat_minor": 4
}
